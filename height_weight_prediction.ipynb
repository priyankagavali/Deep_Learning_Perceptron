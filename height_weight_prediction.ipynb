{
 "cells": [
  {
   "cell_type": "code",
   "execution_count": 21,
   "id": "following-immunology",
   "metadata": {},
   "outputs": [],
   "source": [
    "import pandas as pd\n",
    "import numpy as np\n",
    "from keras.models import Sequential \n",
    "from keras.layers import Dense\n",
    "from keras.optimizers import Adam"
   ]
  },
  {
   "cell_type": "code",
   "execution_count": 4,
   "id": "improving-engagement",
   "metadata": {},
   "outputs": [],
   "source": [
    "data=pd.read_csv(\"weight-height.csv\")"
   ]
  },
  {
   "cell_type": "code",
   "execution_count": 5,
   "id": "silent-consent",
   "metadata": {},
   "outputs": [
    {
     "data": {
      "text/plain": [
       "Index(['Gender', 'Height', 'Weight'], dtype='object')"
      ]
     },
     "execution_count": 5,
     "metadata": {},
     "output_type": "execute_result"
    }
   ],
   "source": [
    "data.columns"
   ]
  },
  {
   "cell_type": "code",
   "execution_count": 8,
   "id": "designing-accommodation",
   "metadata": {},
   "outputs": [
    {
     "data": {
      "text/html": [
       "<div>\n",
       "<style scoped>\n",
       "    .dataframe tbody tr th:only-of-type {\n",
       "        vertical-align: middle;\n",
       "    }\n",
       "\n",
       "    .dataframe tbody tr th {\n",
       "        vertical-align: top;\n",
       "    }\n",
       "\n",
       "    .dataframe thead th {\n",
       "        text-align: right;\n",
       "    }\n",
       "</style>\n",
       "<table border=\"1\" class=\"dataframe\">\n",
       "  <thead>\n",
       "    <tr style=\"text-align: right;\">\n",
       "      <th></th>\n",
       "      <th>Gender</th>\n",
       "      <th>Height</th>\n",
       "      <th>Weight</th>\n",
       "    </tr>\n",
       "  </thead>\n",
       "  <tbody>\n",
       "    <tr>\n",
       "      <th>9995</th>\n",
       "      <td>Female</td>\n",
       "      <td>66.172652</td>\n",
       "      <td>136.777454</td>\n",
       "    </tr>\n",
       "    <tr>\n",
       "      <th>9996</th>\n",
       "      <td>Female</td>\n",
       "      <td>67.067155</td>\n",
       "      <td>170.867906</td>\n",
       "    </tr>\n",
       "    <tr>\n",
       "      <th>9997</th>\n",
       "      <td>Female</td>\n",
       "      <td>63.867992</td>\n",
       "      <td>128.475319</td>\n",
       "    </tr>\n",
       "    <tr>\n",
       "      <th>9998</th>\n",
       "      <td>Female</td>\n",
       "      <td>69.034243</td>\n",
       "      <td>163.852461</td>\n",
       "    </tr>\n",
       "    <tr>\n",
       "      <th>9999</th>\n",
       "      <td>Female</td>\n",
       "      <td>61.944246</td>\n",
       "      <td>113.649103</td>\n",
       "    </tr>\n",
       "  </tbody>\n",
       "</table>\n",
       "</div>"
      ],
      "text/plain": [
       "      Gender     Height      Weight\n",
       "9995  Female  66.172652  136.777454\n",
       "9996  Female  67.067155  170.867906\n",
       "9997  Female  63.867992  128.475319\n",
       "9998  Female  69.034243  163.852461\n",
       "9999  Female  61.944246  113.649103"
      ]
     },
     "execution_count": 8,
     "metadata": {},
     "output_type": "execute_result"
    }
   ],
   "source": [
    "data.tail()"
   ]
  },
  {
   "cell_type": "code",
   "execution_count": 9,
   "id": "latin-program",
   "metadata": {},
   "outputs": [],
   "source": [
    "x=data['Height']"
   ]
  },
  {
   "cell_type": "code",
   "execution_count": 10,
   "id": "mathematical-tract",
   "metadata": {},
   "outputs": [],
   "source": [
    "y=data['Weight']"
   ]
  },
  {
   "cell_type": "code",
   "execution_count": 11,
   "id": "centered-torture",
   "metadata": {},
   "outputs": [],
   "source": [
    "model=Sequential()"
   ]
  },
  {
   "cell_type": "code",
   "execution_count": 15,
   "id": "italic-cathedral",
   "metadata": {},
   "outputs": [],
   "source": [
    "model.add(Dense(activation='linear',units=1,kernel_initializer='Zeros',bias_initializer='Zeros'))"
   ]
  },
  {
   "cell_type": "code",
   "execution_count": 17,
   "id": "annoying-worship",
   "metadata": {},
   "outputs": [
    {
     "data": {
      "text/plain": [
       "{'name': 'sequential',\n",
       " 'layers': [{'class_name': 'Dense',\n",
       "   'config': {'name': 'dense',\n",
       "    'trainable': True,\n",
       "    'dtype': 'float32',\n",
       "    'units': 1,\n",
       "    'activation': 'linear',\n",
       "    'use_bias': True,\n",
       "    'kernel_initializer': {'class_name': 'Zeros', 'config': {}},\n",
       "    'bias_initializer': {'class_name': 'Zeros', 'config': {}},\n",
       "    'kernel_regularizer': None,\n",
       "    'bias_regularizer': None,\n",
       "    'activity_regularizer': None,\n",
       "    'kernel_constraint': None,\n",
       "    'bias_constraint': None}}]}"
      ]
     },
     "execution_count": 17,
     "metadata": {},
     "output_type": "execute_result"
    }
   ],
   "source": [
    "model.get_config()"
   ]
  },
  {
   "cell_type": "code",
   "execution_count": 34,
   "id": "excellent-stroke",
   "metadata": {},
   "outputs": [],
   "source": [
    "model.compile(optimizer=Adam(lr=0.001),loss='mean_squared_error')"
   ]
  },
  {
   "cell_type": "code",
   "execution_count": 35,
   "id": "alert-carnival",
   "metadata": {},
   "outputs": [
    {
     "name": "stdout",
     "output_type": "stream",
     "text": [
      "Epoch 1/100\n",
      "313/313 [==============================] - 0s 989us/step - loss: 551.9103\n",
      "Epoch 2/100\n",
      "313/313 [==============================] - 0s 1ms/step - loss: 551.5824\n",
      "Epoch 3/100\n",
      "313/313 [==============================] - 0s 1ms/step - loss: 551.4382\n",
      "Epoch 4/100\n",
      "313/313 [==============================] - 0s 1ms/step - loss: 551.2480\n",
      "Epoch 5/100\n",
      "313/313 [==============================] - 0s 1ms/step - loss: 550.9921\n",
      "Epoch 6/100\n",
      "313/313 [==============================] - 0s 1ms/step - loss: 550.9297\n",
      "Epoch 7/100\n",
      "313/313 [==============================] - 0s 1ms/step - loss: 550.6442\n",
      "Epoch 8/100\n",
      "313/313 [==============================] - 0s 1ms/step - loss: 550.4037\n",
      "Epoch 9/100\n",
      "313/313 [==============================] - 0s 1ms/step - loss: 550.2438\n",
      "Epoch 10/100\n",
      "313/313 [==============================] - 0s 1ms/step - loss: 549.9833\n",
      "Epoch 11/100\n",
      "313/313 [==============================] - 0s 1ms/step - loss: 549.9659\n",
      "Epoch 12/100\n",
      "313/313 [==============================] - 0s 1ms/step - loss: 549.6110\n",
      "Epoch 13/100\n",
      "313/313 [==============================] - 0s 1ms/step - loss: 549.4054\n",
      "Epoch 14/100\n",
      "313/313 [==============================] - 0s 1ms/step - loss: 549.2260\n",
      "Epoch 15/100\n",
      "313/313 [==============================] - 0s 1ms/step - loss: 549.2062\n",
      "Epoch 16/100\n",
      "313/313 [==============================] - 0s 1ms/step - loss: 548.9799\n",
      "Epoch 17/100\n",
      "313/313 [==============================] - 0s 1ms/step - loss: 548.6788\n",
      "Epoch 18/100\n",
      "313/313 [==============================] - 0s 1ms/step - loss: 548.6497\n",
      "Epoch 19/100\n",
      "313/313 [==============================] - 0s 1ms/step - loss: 548.3032\n",
      "Epoch 20/100\n",
      "313/313 [==============================] - 0s 1ms/step - loss: 548.0884\n",
      "Epoch 21/100\n",
      "313/313 [==============================] - 0s 1ms/step - loss: 547.9875\n",
      "Epoch 22/100\n",
      "313/313 [==============================] - 0s 1ms/step - loss: 547.8170\n",
      "Epoch 23/100\n",
      "313/313 [==============================] - 0s 1ms/step - loss: 547.5099\n",
      "Epoch 24/100\n",
      "313/313 [==============================] - 0s 1ms/step - loss: 547.3088\n",
      "Epoch 25/100\n",
      "313/313 [==============================] - 0s 1ms/step - loss: 546.9926\n",
      "Epoch 26/100\n",
      "313/313 [==============================] - 0s 1ms/step - loss: 547.0981\n",
      "Epoch 27/100\n",
      "313/313 [==============================] - 0s 1ms/step - loss: 546.9794\n",
      "Epoch 28/100\n",
      "313/313 [==============================] - 0s 1ms/step - loss: 546.6121\n",
      "Epoch 29/100\n",
      "313/313 [==============================] - 0s 1ms/step - loss: 546.4135\n",
      "Epoch 30/100\n",
      "313/313 [==============================] - 0s 1ms/step - loss: 546.2988\n",
      "Epoch 31/100\n",
      "313/313 [==============================] - 0s 1ms/step - loss: 545.9478\n",
      "Epoch 32/100\n",
      "313/313 [==============================] - 0s 1ms/step - loss: 545.8106\n",
      "Epoch 33/100\n",
      "313/313 [==============================] - 0s 1ms/step - loss: 545.7534\n",
      "Epoch 34/100\n",
      "313/313 [==============================] - 0s 1ms/step - loss: 545.4132\n",
      "Epoch 35/100\n",
      "313/313 [==============================] - 0s 1ms/step - loss: 545.3799\n",
      "Epoch 36/100\n",
      "313/313 [==============================] - 0s 1ms/step - loss: 545.1185\n",
      "Epoch 37/100\n",
      "313/313 [==============================] - 0s 1ms/step - loss: 544.8035A: 0s - loss: 549\n",
      "Epoch 38/100\n",
      "313/313 [==============================] - 0s 1ms/step - loss: 544.8309\n",
      "Epoch 39/100\n",
      "313/313 [==============================] - 0s 1ms/step - loss: 544.5116\n",
      "Epoch 40/100\n",
      "313/313 [==============================] - 0s 1ms/step - loss: 544.3209\n",
      "Epoch 41/100\n",
      "313/313 [==============================] - 0s 1ms/step - loss: 544.1677\n",
      "Epoch 42/100\n",
      "313/313 [==============================] - 0s 1ms/step - loss: 543.9459\n",
      "Epoch 43/100\n",
      "313/313 [==============================] - 0s 1ms/step - loss: 543.7802\n",
      "Epoch 44/100\n",
      "313/313 [==============================] - 0s 1ms/step - loss: 543.6212\n",
      "Epoch 45/100\n",
      "313/313 [==============================] - 0s 1ms/step - loss: 543.5040\n",
      "Epoch 46/100\n",
      "313/313 [==============================] - 0s 1ms/step - loss: 543.2316\n",
      "Epoch 47/100\n",
      "313/313 [==============================] - 0s 1ms/step - loss: 543.0015\n",
      "Epoch 48/100\n",
      "313/313 [==============================] - 0s 1ms/step - loss: 542.8461\n",
      "Epoch 49/100\n",
      "313/313 [==============================] - 0s 1ms/step - loss: 542.7482\n",
      "Epoch 50/100\n",
      "313/313 [==============================] - 0s 1ms/step - loss: 542.4662\n",
      "Epoch 51/100\n",
      "313/313 [==============================] - 0s 1ms/step - loss: 542.2550\n",
      "Epoch 52/100\n",
      "313/313 [==============================] - 0s 1ms/step - loss: 542.0840\n",
      "Epoch 53/100\n",
      "313/313 [==============================] - 0s 1ms/step - loss: 541.9644\n",
      "Epoch 54/100\n",
      "313/313 [==============================] - 0s 1ms/step - loss: 541.7737\n",
      "Epoch 55/100\n",
      "313/313 [==============================] - 0s 1ms/step - loss: 541.5422\n",
      "Epoch 56/100\n",
      "313/313 [==============================] - 0s 1ms/step - loss: 541.2571\n",
      "Epoch 57/100\n",
      "313/313 [==============================] - 0s 1ms/step - loss: 541.1428\n",
      "Epoch 58/100\n",
      "313/313 [==============================] - 0s 1ms/step - loss: 541.0007\n",
      "Epoch 59/100\n",
      "313/313 [==============================] - 0s 1ms/step - loss: 540.8301\n",
      "Epoch 60/100\n",
      "313/313 [==============================] - 0s 1ms/step - loss: 540.7162\n",
      "Epoch 61/100\n",
      "313/313 [==============================] - 0s 1ms/step - loss: 540.4340\n",
      "Epoch 62/100\n",
      "313/313 [==============================] - 0s 1ms/step - loss: 540.1993\n",
      "Epoch 63/100\n",
      "313/313 [==============================] - 0s 1ms/step - loss: 539.7941\n",
      "Epoch 64/100\n",
      "313/313 [==============================] - 0s 1ms/step - loss: 539.8419\n",
      "Epoch 65/100\n",
      "313/313 [==============================] - 0s 1ms/step - loss: 539.7561\n",
      "Epoch 66/100\n",
      "313/313 [==============================] - 0s 1ms/step - loss: 539.3958\n",
      "Epoch 67/100\n",
      "313/313 [==============================] - 0s 1ms/step - loss: 539.3527\n",
      "Epoch 68/100\n",
      "313/313 [==============================] - 0s 1ms/step - loss: 539.0966\n",
      "Epoch 69/100\n",
      "313/313 [==============================] - 0s 1ms/step - loss: 538.9166\n",
      "Epoch 70/100\n",
      "313/313 [==============================] - 0s 1ms/step - loss: 538.7998\n",
      "Epoch 71/100\n",
      "313/313 [==============================] - 0s 1ms/step - loss: 538.6274\n",
      "Epoch 72/100\n",
      "313/313 [==============================] - 0s 1ms/step - loss: 538.3654\n",
      "Epoch 73/100\n",
      "313/313 [==============================] - 0s 1ms/step - loss: 538.1534\n",
      "Epoch 74/100\n",
      "313/313 [==============================] - 0s 1ms/step - loss: 537.9977\n",
      "Epoch 75/100\n",
      "313/313 [==============================] - 0s 1ms/step - loss: 537.8015\n",
      "Epoch 76/100\n",
      "313/313 [==============================] - 0s 1ms/step - loss: 537.6442\n",
      "Epoch 77/100\n",
      "313/313 [==============================] - 0s 1ms/step - loss: 537.4597\n",
      "Epoch 78/100\n",
      "313/313 [==============================] - 0s 1ms/step - loss: 537.1939\n",
      "Epoch 79/100\n",
      "313/313 [==============================] - 0s 1ms/step - loss: 537.0653\n",
      "Epoch 80/100\n",
      "313/313 [==============================] - 0s 1ms/step - loss: 536.8842\n",
      "Epoch 81/100\n",
      "313/313 [==============================] - 0s 1ms/step - loss: 536.7145\n",
      "Epoch 82/100\n",
      "313/313 [==============================] - 0s 1ms/step - loss: 536.4576\n",
      "Epoch 83/100\n",
      "313/313 [==============================] - 0s 1ms/step - loss: 536.3770\n",
      "Epoch 84/100\n",
      "313/313 [==============================] - 0s 1ms/step - loss: 536.1685\n",
      "Epoch 85/100\n",
      "313/313 [==============================] - 0s 1ms/step - loss: 535.8464\n",
      "Epoch 86/100\n",
      "313/313 [==============================] - 0s 1ms/step - loss: 535.7399\n",
      "Epoch 87/100\n",
      "313/313 [==============================] - 0s 1ms/step - loss: 535.6122\n",
      "Epoch 88/100\n",
      "313/313 [==============================] - 0s 1ms/step - loss: 535.2937\n",
      "Epoch 89/100\n",
      "313/313 [==============================] - 0s 1ms/step - loss: 535.1812\n",
      "Epoch 90/100\n",
      "313/313 [==============================] - 0s 957us/step - loss: 535.0328\n",
      "Epoch 91/100\n",
      "313/313 [==============================] - 0s 1ms/step - loss: 534.8491\n",
      "Epoch 92/100\n",
      "313/313 [==============================] - 0s 1ms/step - loss: 534.5974\n",
      "Epoch 93/100\n",
      "313/313 [==============================] - 0s 1ms/step - loss: 534.4068\n",
      "Epoch 94/100\n",
      "313/313 [==============================] - 0s 1ms/step - loss: 534.2156\n",
      "Epoch 95/100\n",
      "313/313 [==============================] - 0s 1ms/step - loss: 534.1082\n",
      "Epoch 96/100\n",
      "313/313 [==============================] - 0s 1ms/step - loss: 533.8524\n",
      "Epoch 97/100\n"
     ]
    },
    {
     "name": "stdout",
     "output_type": "stream",
     "text": [
      "313/313 [==============================] - 0s 1ms/step - loss: 533.5905\n",
      "Epoch 98/100\n",
      "313/313 [==============================] - 0s 1ms/step - loss: 533.5170\n",
      "Epoch 99/100\n",
      "313/313 [==============================] - 0s 1ms/step - loss: 533.2947\n",
      "Epoch 100/100\n",
      "313/313 [==============================] - 0s 1ms/step - loss: 533.1414\n"
     ]
    },
    {
     "data": {
      "text/plain": [
       "<tensorflow.python.keras.callbacks.History at 0x2030ab007c0>"
      ]
     },
     "execution_count": 35,
     "metadata": {},
     "output_type": "execute_result"
    }
   ],
   "source": [
    "model.fit(x,y,epochs=100)"
   ]
  },
  {
   "cell_type": "code",
   "execution_count": 36,
   "id": "efficient-belly",
   "metadata": {},
   "outputs": [
    {
     "data": {
      "text/plain": [
       "[array([[2.6373832]], dtype=float32), array([-12.327729], dtype=float32)]"
      ]
     },
     "execution_count": 36,
     "metadata": {},
     "output_type": "execute_result"
    }
   ],
   "source": [
    "model.get_weights()"
   ]
  },
  {
   "cell_type": "code",
   "execution_count": 37,
   "id": "established-share",
   "metadata": {},
   "outputs": [
    {
     "name": "stdout",
     "output_type": "stream",
     "text": [
      "Model: \"sequential\"\n",
      "_________________________________________________________________\n",
      "Layer (type)                 Output Shape              Param #   \n",
      "=================================================================\n",
      "dense (Dense)                (None, 1)                 2         \n",
      "=================================================================\n",
      "Total params: 2\n",
      "Trainable params: 2\n",
      "Non-trainable params: 0\n",
      "_________________________________________________________________\n"
     ]
    }
   ],
   "source": [
    "model.summary()"
   ]
  },
  {
   "cell_type": "code",
   "execution_count": 39,
   "id": "tropical-narrative",
   "metadata": {},
   "outputs": [
    {
     "data": {
      "text/plain": [
       "array([[161.73956]], dtype=float32)"
      ]
     },
     "execution_count": 39,
     "metadata": {},
     "output_type": "execute_result"
    }
   ],
   "source": [
    "model.predict([66])"
   ]
  },
  {
   "cell_type": "code",
   "execution_count": 41,
   "id": "advance-offer",
   "metadata": {},
   "outputs": [],
   "source": [
    "from keras.models import save_model"
   ]
  },
  {
   "cell_type": "code",
   "execution_count": 45,
   "id": "whole-coast",
   "metadata": {},
   "outputs": [],
   "source": [
    "model.save('height_weight_model.h5')"
   ]
  },
  {
   "cell_type": "code",
   "execution_count": null,
   "id": "greenhouse-carol",
   "metadata": {},
   "outputs": [],
   "source": []
  }
 ],
 "metadata": {
  "kernelspec": {
   "display_name": "Python 3",
   "language": "python",
   "name": "python3"
  },
  "language_info": {
   "codemirror_mode": {
    "name": "ipython",
    "version": 3
   },
   "file_extension": ".py",
   "mimetype": "text/x-python",
   "name": "python",
   "nbconvert_exporter": "python",
   "pygments_lexer": "ipython3",
   "version": "3.8.5"
  }
 },
 "nbformat": 4,
 "nbformat_minor": 5
}
